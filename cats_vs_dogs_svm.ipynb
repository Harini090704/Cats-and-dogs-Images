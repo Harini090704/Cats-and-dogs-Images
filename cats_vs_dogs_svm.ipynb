{
 "cells": [
  {
   "cell_type": "markdown",
   "id": "0a238106",
   "metadata": {},
   "source": [
    "# 🐱🐶 Cats vs Dogs Classification using SVM"
   ]
  },
  {
   "cell_type": "code",
   "execution_count": null,
   "id": "30d12055",
   "metadata": {},
   "outputs": [],
   "source": [
    "\n",
    "import os\n",
    "import numpy as np\n",
    "import pandas as pd\n",
    "from PIL import Image\n",
    "from tqdm.auto import tqdm\n",
    "import matplotlib.pyplot as plt\n",
    "\n",
    "from sklearn.model_selection import train_test_split, GridSearchCV\n",
    "from sklearn.preprocessing import LabelEncoder, StandardScaler\n",
    "from sklearn.svm import SVC\n",
    "from sklearn.metrics import classification_report, accuracy_score\n",
    "from skimage.feature import hog\n",
    "import joblib\n"
   ]
  },
  {
   "cell_type": "code",
   "execution_count": null,
   "id": "62ae2c55",
   "metadata": {},
   "outputs": [],
   "source": [
    "\n",
    "csv_path = \"images_dataset.csv\"   # ensure this file is in the same folder\n",
    "df = pd.read_csv(csv_path)\n",
    "print(\"Rows:\", len(df))\n",
    "df.head()\n"
   ]
  },
  {
   "cell_type": "code",
   "execution_count": null,
   "id": "cba762ee",
   "metadata": {},
   "outputs": [],
   "source": [
    "\n",
    "# Change base_dir to where your images are located\n",
    "base_dir = r\"C:\\Users\\YourName\\cats_and_dogs\"\n",
    "\n",
    "df['filepath'] = df['filename'].apply(lambda x: os.path.join(base_dir, x))\n",
    "\n",
    "missing = [p for p in df['filepath'] if not os.path.exists(p)]\n",
    "print(\"Missing files:\", len(missing))\n",
    "if missing:\n",
    "    print(\"⚠️ Example missing:\", missing[:5])\n"
   ]
  },
  {
   "cell_type": "code",
   "execution_count": null,
   "id": "9bfb0adf",
   "metadata": {},
   "outputs": [],
   "source": [
    "\n",
    "def load_images(filepaths, size=(128,128), grayscale=True, max_images=None):\n",
    "    X = []\n",
    "    skipped = 0\n",
    "    total = len(filepaths) if max_images is None else min(len(filepaths), max_images)\n",
    "    for p in tqdm(filepaths[:total], desc=\"Loading images\"):\n",
    "        try:\n",
    "            img = Image.open(p).convert(\"RGB\")\n",
    "            img = img.resize(size, Image.BILINEAR)\n",
    "            if grayscale:\n",
    "                img = img.convert(\"L\")\n",
    "            X.append(np.array(img))\n",
    "        except Exception:\n",
    "            skipped += 1\n",
    "    X = np.array(X)\n",
    "    print(f\"✅ Loaded {len(X)} images, skipped {skipped}\")\n",
    "    return X\n"
   ]
  },
  {
   "cell_type": "code",
   "execution_count": null,
   "id": "75b251a8",
   "metadata": {},
   "outputs": [],
   "source": [
    "\n",
    "filepaths = df['filepath'].values\n",
    "labels = df['label'].values\n",
    "\n",
    "X_images_gray = load_images(filepaths, size=(128,128), grayscale=True)\n",
    "\n",
    "if len(X_images_gray) == 0:\n",
    "    raise ValueError(\"❌ No images loaded! Check your base_dir path.\")\n",
    "\n",
    "X_images_gray = X_images_gray.astype(\"float32\") / 255.0\n",
    "\n",
    "hog_features = []\n",
    "for img in tqdm(X_images_gray, desc=\"Computing HOG\"):\n",
    "    feat = hog(img, orientations=9, pixels_per_cell=(8,8),\n",
    "               cells_per_block=(2,2), block_norm=\"L2-Hys\",\n",
    "               visualize=False, feature_vector=True)\n",
    "    hog_features.append(feat)\n",
    "\n",
    "X_hog = np.array(hog_features)\n",
    "print(\"HOG feature shape:\", X_hog.shape)\n"
   ]
  },
  {
   "cell_type": "code",
   "execution_count": null,
   "id": "a315d1e8",
   "metadata": {},
   "outputs": [],
   "source": [
    "\n",
    "le = LabelEncoder()\n",
    "y = le.fit_transform(labels[:len(X_hog)])\n",
    "\n",
    "X_train, X_test, y_train, y_test = train_test_split(\n",
    "    X_hog, y, test_size=0.2, random_state=42, stratify=y\n",
    ")\n",
    "\n",
    "scaler = StandardScaler()\n",
    "X_train = scaler.fit_transform(X_train)\n",
    "X_test = scaler.transform(X_test)\n"
   ]
  },
  {
   "cell_type": "code",
   "execution_count": null,
   "id": "4acc9c83",
   "metadata": {},
   "outputs": [],
   "source": [
    "\n",
    "svc = SVC(kernel=\"rbf\", class_weight=\"balanced\")\n",
    "\n",
    "param_grid = {\"C\": [1, 10], \"gamma\": [\"scale\", \"auto\"]}\n",
    "\n",
    "grid = GridSearchCV(svc, param_grid, cv=3, n_jobs=-1, verbose=2)\n",
    "grid.fit(X_train, y_train)\n",
    "\n",
    "print(\"Best params:\", grid.best_params_)\n",
    "best_svc = grid.best_estimator_\n"
   ]
  },
  {
   "cell_type": "code",
   "execution_count": null,
   "id": "9ffe7413",
   "metadata": {},
   "outputs": [],
   "source": [
    "\n",
    "y_pred = best_svc.predict(X_test)\n",
    "\n",
    "print(\"✅ Accuracy:\", accuracy_score(y_test, y_pred))\n",
    "print(classification_report(y_test, y_pred, target_names=le.classes_))\n"
   ]
  },
  {
   "cell_type": "code",
   "execution_count": null,
   "id": "d996bcb6",
   "metadata": {},
   "outputs": [],
   "source": [
    "\n",
    "joblib.dump(best_svc, \"svm_cats_dogs_model.joblib\")\n",
    "joblib.dump(scaler, \"scaler.joblib\")\n",
    "joblib.dump(le, \"label_encoder.joblib\")\n",
    "print(\"✅ Model and preprocessing saved!\")\n"
   ]
  }
 ],
 "metadata": {},
 "nbformat": 4,
 "nbformat_minor": 5
}